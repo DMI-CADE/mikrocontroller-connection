{
 "cells": [
  {
   "cell_type": "code",
   "execution_count": 3,
   "id": "5841c3f9",
   "metadata": {},
   "outputs": [],
   "source": [
    "#Verzeichnis von Jupyter ändern = In Anaconda promt folgendes eingeben: jupyter notebook --notebook-dir=PFAD\n",
    "\n",
    "#Zum Installieren der pyserial API: pip install pyserial\n",
    "import serial\n",
    "import time\n",
    "\n",
    "global ledConnection\n",
    "global tempConnection\n",
    "\n",
    "\"\"\"\n",
    "Arduino Port auf Linux herausbekommen.\n",
    "Open terminal and type: ls /dev/tty*.\n",
    "Note the port number listed for /dev/ttyUSB* or /dev/ttyACM*. The port number is represented with * here.\n",
    "Use the listed port as the serial port in MATLAB®. For example: /dev/ttyUSB0.\n",
    "\"\"\"\n",
    "\n",
    "def initLedConnection():\n",
    "    ledConnection = serial.Serial(port='COM3', baudrate=9600, timeout=.1)\n",
    "\n",
    "def initTempConnection():\n",
    "    tempConnection = serial.Serial(port='COM4', baudrate=9600, timeout=.1)\n",
    "\n",
    "def writeLeds(string):\n",
    "    ledConnection.write(bytes(string, 'utf-8'))\n",
    "    time.sleep(0.05)\n",
    "    \n",
    "def getTemperature():\n",
    "    \"\"\"\n",
    "    Ist readline() blockierend?\n",
    "    \n",
    "    Die Temperatur soll nur nach einer Zeit x ausgelesen werden.\n",
    "    Wird der Timer über den Arduino, dieses Script oder den ProcessManager gestartet?\n",
    "    \n",
    "    1.) Daten einlesen\n",
    "    data = tempConnection.readline()\n",
    "    #return data\n",
    "    \n",
    "    2.) Datei öffnen\n",
    "    3.) Daten in Datei schreiben\n",
    "    4.) Datei schließen\n",
    "    \"\"\""
   ]
  },
  {
   "cell_type": "code",
   "execution_count": null,
   "id": "887fb982",
   "metadata": {},
   "outputs": [],
   "source": []
  }
 ],
 "metadata": {
  "kernelspec": {
   "display_name": "Python 3 (ipykernel)",
   "language": "python",
   "name": "python3"
  },
  "language_info": {
   "codemirror_mode": {
    "name": "ipython",
    "version": 3
   },
   "file_extension": ".py",
   "mimetype": "text/x-python",
   "name": "python",
   "nbconvert_exporter": "python",
   "pygments_lexer": "ipython3",
   "version": "3.9.7"
  }
 },
 "nbformat": 4,
 "nbformat_minor": 5
}
